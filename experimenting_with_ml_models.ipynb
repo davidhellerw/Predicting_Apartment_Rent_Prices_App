{
 "cells": [
  {
   "cell_type": "markdown",
   "metadata": {},
   "source": [
    "# Building the ML Models"
   ]
  },
  {
   "cell_type": "code",
   "execution_count": 28,
   "metadata": {},
   "outputs": [],
   "source": [
    "import pandas as pd\n",
    "from sklearn.model_selection import train_test_split, GridSearchCV\n",
    "from sklearn.ensemble import RandomForestRegressor\n",
    "from sklearn.compose import ColumnTransformer\n",
    "from sklearn.preprocessing import StandardScaler, OneHotEncoder, PolynomialFeatures\n",
    "from sklearn.pipeline import Pipeline\n",
    "import joblib\n",
    "from sklearn.cluster import KMeans\n",
    "from sklearn.metrics import mean_squared_error, r2_score, silhouette_score\n",
    "import matplotlib.pyplot as plt\n",
    "import seaborn as sns"
   ]
  },
  {
   "cell_type": "code",
   "execution_count": 2,
   "metadata": {},
   "outputs": [],
   "source": [
    "df = pd.read_pickle('cleaned_apartment_df.pkl')"
   ]
  },
  {
   "cell_type": "code",
   "execution_count": 3,
   "metadata": {},
   "outputs": [
    {
     "data": {
      "text/html": [
       "<div>\n",
       "<style scoped>\n",
       "    .dataframe tbody tr th:only-of-type {\n",
       "        vertical-align: middle;\n",
       "    }\n",
       "\n",
       "    .dataframe tbody tr th {\n",
       "        vertical-align: top;\n",
       "    }\n",
       "\n",
       "    .dataframe thead th {\n",
       "        text-align: right;\n",
       "    }\n",
       "</style>\n",
       "<table border=\"1\" class=\"dataframe\">\n",
       "  <thead>\n",
       "    <tr style=\"text-align: right;\">\n",
       "      <th></th>\n",
       "      <th>bathrooms</th>\n",
       "      <th>bedrooms</th>\n",
       "      <th>price</th>\n",
       "      <th>square_feet</th>\n",
       "      <th>city</th>\n",
       "      <th>state</th>\n",
       "      <th>latitude</th>\n",
       "      <th>longitude</th>\n",
       "      <th>region</th>\n",
       "    </tr>\n",
       "  </thead>\n",
       "  <tbody>\n",
       "    <tr>\n",
       "      <th>0</th>\n",
       "      <td>1.0</td>\n",
       "      <td>1.0</td>\n",
       "      <td>2195.0</td>\n",
       "      <td>542.0</td>\n",
       "      <td>Redondo Beach</td>\n",
       "      <td>CA</td>\n",
       "      <td>33.8520</td>\n",
       "      <td>-118.3759</td>\n",
       "      <td>West</td>\n",
       "    </tr>\n",
       "    <tr>\n",
       "      <th>1</th>\n",
       "      <td>1.5</td>\n",
       "      <td>3.0</td>\n",
       "      <td>1250.0</td>\n",
       "      <td>1500.0</td>\n",
       "      <td>Newport News</td>\n",
       "      <td>VA</td>\n",
       "      <td>37.0867</td>\n",
       "      <td>-76.4941</td>\n",
       "      <td>South</td>\n",
       "    </tr>\n",
       "    <tr>\n",
       "      <th>2</th>\n",
       "      <td>2.0</td>\n",
       "      <td>3.0</td>\n",
       "      <td>1395.0</td>\n",
       "      <td>1650.0</td>\n",
       "      <td>Raleigh</td>\n",
       "      <td>NC</td>\n",
       "      <td>35.8230</td>\n",
       "      <td>-78.6438</td>\n",
       "      <td>South</td>\n",
       "    </tr>\n",
       "    <tr>\n",
       "      <th>3</th>\n",
       "      <td>1.0</td>\n",
       "      <td>2.0</td>\n",
       "      <td>1600.0</td>\n",
       "      <td>820.0</td>\n",
       "      <td>Vacaville</td>\n",
       "      <td>CA</td>\n",
       "      <td>38.3622</td>\n",
       "      <td>-121.9712</td>\n",
       "      <td>West</td>\n",
       "    </tr>\n",
       "    <tr>\n",
       "      <th>4</th>\n",
       "      <td>1.0</td>\n",
       "      <td>1.0</td>\n",
       "      <td>975.0</td>\n",
       "      <td>624.0</td>\n",
       "      <td>Albuquerque</td>\n",
       "      <td>NM</td>\n",
       "      <td>35.1038</td>\n",
       "      <td>-106.6110</td>\n",
       "      <td>West</td>\n",
       "    </tr>\n",
       "  </tbody>\n",
       "</table>\n",
       "</div>"
      ],
      "text/plain": [
       "   bathrooms  bedrooms   price  square_feet           city state  latitude  \\\n",
       "0        1.0       1.0  2195.0        542.0  Redondo Beach    CA   33.8520   \n",
       "1        1.5       3.0  1250.0       1500.0   Newport News    VA   37.0867   \n",
       "2        2.0       3.0  1395.0       1650.0        Raleigh    NC   35.8230   \n",
       "3        1.0       2.0  1600.0        820.0      Vacaville    CA   38.3622   \n",
       "4        1.0       1.0   975.0        624.0    Albuquerque    NM   35.1038   \n",
       "\n",
       "   longitude region  \n",
       "0  -118.3759   West  \n",
       "1   -76.4941  South  \n",
       "2   -78.6438  South  \n",
       "3  -121.9712   West  \n",
       "4  -106.6110   West  "
      ]
     },
     "execution_count": 3,
     "metadata": {},
     "output_type": "execute_result"
    }
   ],
   "source": [
    "df.head()"
   ]
  },
  {
   "cell_type": "code",
   "execution_count": 4,
   "metadata": {},
   "outputs": [
    {
     "name": "stdout",
     "output_type": "stream",
     "text": [
      "Overall Root Mean Squared Error: 203.44024377230454\n",
      "Overall R-squared: 0.8458096698592319\n"
     ]
    }
   ],
   "source": [
    "# Define features and target variable\n",
    "X = df[['bathrooms', 'bedrooms', 'square_feet', 'latitude', 'longitude', 'state', 'region']]\n",
    "y = df['price']\n",
    "\n",
    "# One-Hot Encode the 'state' column\n",
    "preprocessor = ColumnTransformer(\n",
    "    transformers=[\n",
    "        ('num', 'passthrough', ['bathrooms', 'bedrooms', 'square_feet', 'latitude', 'longitude']),\n",
    "        ('cat', OneHotEncoder(), ['state', 'region'])\n",
    "    ])\n",
    "\n",
    "# Create a pipeline with a preprocessor and a model\n",
    "pipeline = Pipeline(steps=[\n",
    "    ('preprocessor', preprocessor),\n",
    "    ('model', RandomForestRegressor(random_state=42))\n",
    "])\n",
    "\n",
    "# Split the data into training and testing sets\n",
    "X_train, X_test, y_train, y_test = train_test_split(X, y, test_size=0.2, random_state=42)\n",
    "\n",
    "# Fit the model\n",
    "pipeline.fit(X_train, y_train)\n",
    "\n",
    "# Make predictions on the test set\n",
    "y_pred = pipeline.predict(X_test)\n",
    "\n",
    "# Evaluate the model on the entire test set\n",
    "rmse = mean_squared_error(y_test, y_pred, squared=False)\n",
    "r2 = r2_score(y_test, y_pred)\n",
    "\n",
    "print(f'Overall Root Mean Squared Error: {rmse}')\n",
    "print(f'Overall R-squared: {r2}')"
   ]
  },
  {
   "cell_type": "code",
   "execution_count": 5,
   "metadata": {},
   "outputs": [
    {
     "name": "stdout",
     "output_type": "stream",
     "text": [
      "             RMSE   R-squared   Count\n",
      "state                                \n",
      "AK     206.893244    0.002106     6.0\n",
      "AL     280.591222    0.240766    66.0\n",
      "AR     130.862181    0.622121   121.0\n",
      "AZ     162.662542    0.769008   476.0\n",
      "CA     235.406130    0.795669  1581.0\n",
      "CO     165.063687    0.819907  1295.0\n",
      "CT     178.654145    0.749258   110.0\n",
      "DC     310.580914   -1.142304    13.0\n",
      "DE      14.841964         NaN     1.0\n",
      "FL     228.423570    0.702708  1067.0\n",
      "GA     237.013171    0.596600   948.0\n",
      "HI     316.556861    0.729430     5.0\n",
      "IA     207.650178    0.446868    70.0\n",
      "ID     340.582191   -0.186394    17.0\n",
      "IL     270.251976    0.686434   188.0\n",
      "IN     196.712486    0.607473    98.0\n",
      "KS     130.509819    0.844453   184.0\n",
      "KY     151.548430    0.752876   182.0\n",
      "LA     153.764654    0.802848   276.0\n",
      "MA     240.873590    0.755094   804.0\n",
      "MD     188.927091    0.742070   988.0\n",
      "ME     197.669542   -0.116379     3.0\n",
      "MI     294.692430    0.469564   121.0\n",
      "MN     246.227593    0.634387   124.0\n",
      "MO     226.462581    0.686322   234.0\n",
      "MS     233.213109   -0.115987    27.0\n",
      "MT     182.579460    0.529409    19.0\n",
      "NC     205.600247    0.630496  1223.0\n",
      "ND     153.994842    0.665761   135.0\n",
      "NE     149.819188    0.610631   202.0\n",
      "NH     184.794209    0.668459   150.0\n",
      "NJ     208.721206    0.844186   819.0\n",
      "NM     145.707437    0.907330     5.0\n",
      "NV     151.459491    0.783305   542.0\n",
      "NY     321.953521    0.682930    67.0\n",
      "OH     181.964214    0.816507   902.0\n",
      "OK     139.713339    0.791781   185.0\n",
      "OR     362.069863    0.447511    60.0\n",
      "PA     294.845690    0.561682   211.0\n",
      "RI     389.172786    0.638827    17.0\n",
      "SC     210.647720    0.395965   163.0\n",
      "SD     132.666604    0.647149    14.0\n",
      "TN     183.701492    0.730119   193.0\n",
      "TX     176.822520    0.763777  2194.0\n",
      "UT     236.722232    0.631452   150.0\n",
      "VA     189.962356    0.839134  1611.0\n",
      "VT     286.578980    0.592955    20.0\n",
      "WA     180.141719    0.803242   466.0\n",
      "WI     305.846068    0.277895    63.0\n",
      "WV     114.450783   -7.186864     2.0\n",
      "WY     651.872876 -317.962842     2.0\n"
     ]
    },
    {
     "name": "stderr",
     "output_type": "stream",
     "text": [
      "c:\\Users\\david\\anaconda3\\Lib\\site-packages\\sklearn\\metrics\\_regression.py:918: UndefinedMetricWarning: R^2 score is not well-defined with less than two samples.\n",
      "  warnings.warn(msg, UndefinedMetricWarning)\n"
     ]
    }
   ],
   "source": [
    "# Create a DataFrame with predictions and actual values\n",
    "results = X_test.copy()\n",
    "results['actual_price'] = y_test\n",
    "results['predicted_price'] = y_pred\n",
    "\n",
    "# Analyze performance by state\n",
    "state_performance = results.groupby('state').apply(\n",
    "    lambda df: pd.Series({\n",
    "        'RMSE': mean_squared_error(df['actual_price'], df['predicted_price'], squared=False),\n",
    "        'R-squared': r2_score(df['actual_price'], df['predicted_price']),\n",
    "        'Count': len(df)\n",
    "    })\n",
    ")\n",
    "\n",
    "print(state_performance)"
   ]
  },
  {
   "cell_type": "code",
   "execution_count": 6,
   "metadata": {},
   "outputs": [
    {
     "name": "stdout",
     "output_type": "stream",
     "text": [
      "                 RMSE  R-squared   Count\n",
      "region                                  \n",
      "Midwest    204.283016   0.748074  2335.0\n",
      "Northeast  234.063285   0.821506  2201.0\n",
      "South      197.364480   0.786295  9260.0\n",
      "West       199.283450   0.863868  4624.0\n"
     ]
    }
   ],
   "source": [
    "# Create a DataFrame with predictions and actual values\n",
    "results = X_test.copy()\n",
    "results['actual_price'] = y_test\n",
    "results['predicted_price'] = y_pred\n",
    "\n",
    "# Analyze performance by state\n",
    "region_performance = results.groupby('region').apply(\n",
    "    lambda df: pd.Series({\n",
    "        'RMSE': mean_squared_error(df['actual_price'], df['predicted_price'], squared=False),\n",
    "        'R-squared': r2_score(df['actual_price'], df['predicted_price']),\n",
    "        'Count': len(df)\n",
    "    })\n",
    ")\n",
    "\n",
    "print(region_performance)"
   ]
  },
  {
   "cell_type": "code",
   "execution_count": 7,
   "metadata": {},
   "outputs": [
    {
     "name": "stdout",
     "output_type": "stream",
     "text": [
      "Overall Root Mean Squared Error: 331.54241342801146\n",
      "Overall R-squared: 0.5904927525543745\n"
     ]
    }
   ],
   "source": [
    "# Lets see how the performance changes if we remove latitude and longitude \n",
    "\n",
    "# Define features and target variable\n",
    "X = df[['bathrooms', 'bedrooms', 'square_feet', 'state', 'region']]\n",
    "y = df['price']\n",
    "\n",
    "# One-Hot Encode the 'state' column\n",
    "preprocessor = ColumnTransformer(\n",
    "    transformers=[\n",
    "        ('num', 'passthrough', ['bathrooms', 'bedrooms', 'square_feet']),\n",
    "        ('cat', OneHotEncoder(), ['state', 'region'])\n",
    "    ])\n",
    "\n",
    "# Create a pipeline with a preprocessor and a model\n",
    "pipeline = Pipeline(steps=[\n",
    "    ('preprocessor', preprocessor),\n",
    "    ('model', RandomForestRegressor(random_state=42))\n",
    "])\n",
    "\n",
    "# Split the data into training and testing sets\n",
    "X_train, X_test, y_train, y_test = train_test_split(X, y, test_size=0.2, random_state=42)\n",
    "\n",
    "# Fit the model\n",
    "pipeline.fit(X_train, y_train)\n",
    "\n",
    "# Make predictions on the test set\n",
    "y_pred = pipeline.predict(X_test)\n",
    "\n",
    "# Evaluate the model on the entire test set\n",
    "rmse = mean_squared_error(y_test, y_pred, squared=False)\n",
    "r2 = r2_score(y_test, y_pred)\n",
    "\n",
    "print(f'Overall Root Mean Squared Error: {rmse}')\n",
    "print(f'Overall R-squared: {r2}')"
   ]
  },
  {
   "cell_type": "code",
   "execution_count": 8,
   "metadata": {},
   "outputs": [
    {
     "name": "stdout",
     "output_type": "stream",
     "text": [
      "Overall Root Mean Squared Error: 203.46131018536408\n",
      "Overall R-squared: 0.8457777351220022\n"
     ]
    }
   ],
   "source": [
    "# What if we remove 'region'?\n",
    "\n",
    "# Define features and target variable\n",
    "X = df[['bathrooms', 'bedrooms', 'square_feet', 'latitude', 'longitude', 'state']]\n",
    "y = df['price']\n",
    "\n",
    "# One-Hot Encode the 'state' column\n",
    "preprocessor = ColumnTransformer(\n",
    "    transformers=[\n",
    "        ('num', 'passthrough', ['bathrooms', 'bedrooms', 'square_feet', 'latitude', 'longitude']),\n",
    "        ('cat', OneHotEncoder(), ['state'])\n",
    "    ])\n",
    "\n",
    "# Create a pipeline with a preprocessor and a model\n",
    "pipeline = Pipeline(steps=[\n",
    "    ('preprocessor', preprocessor),\n",
    "    ('model', RandomForestRegressor(random_state=42))\n",
    "])\n",
    "\n",
    "# Split the data into training and testing sets\n",
    "X_train, X_test, y_train, y_test = train_test_split(X, y, test_size=0.2, random_state=42)\n",
    "\n",
    "# Fit the model\n",
    "pipeline.fit(X_train, y_train)\n",
    "\n",
    "# Make predictions on the test set\n",
    "y_pred = pipeline.predict(X_test)\n",
    "\n",
    "# Evaluate the model on the entire test set\n",
    "rmse = mean_squared_error(y_test, y_pred, squared=False)\n",
    "r2 = r2_score(y_test, y_pred)\n",
    "\n",
    "print(f'Overall Root Mean Squared Error: {rmse}')\n",
    "print(f'Overall R-squared: {r2}')"
   ]
  },
  {
   "cell_type": "code",
   "execution_count": 9,
   "metadata": {},
   "outputs": [
    {
     "name": "stdout",
     "output_type": "stream",
     "text": [
      "Overall Root Mean Squared Error: 201.93419593320888\n",
      "Overall R-squared: 0.8480841310555858\n"
     ]
    }
   ],
   "source": [
    "# What if we just use numerical features?\n",
    "\n",
    "# Define features and target variable\n",
    "X = df[['bathrooms', 'bedrooms', 'square_feet', 'latitude', 'longitude']]\n",
    "y = df['price']\n",
    "\n",
    "# One-Hot Encode the 'state' column\n",
    "preprocessor = ColumnTransformer(\n",
    "    transformers=[\n",
    "        ('num', 'passthrough', ['bathrooms', 'bedrooms', 'square_feet', 'latitude', 'longitude']),\n",
    "    ])\n",
    "\n",
    "# Create a pipeline with a preprocessor and a model\n",
    "pipeline = Pipeline(steps=[\n",
    "    ('preprocessor', preprocessor),\n",
    "    ('model', RandomForestRegressor(random_state=42))\n",
    "])\n",
    "\n",
    "# Split the data into training and testing sets\n",
    "X_train, X_test, y_train, y_test = train_test_split(X, y, test_size=0.2, random_state=42)\n",
    "\n",
    "# Fit the model\n",
    "pipeline.fit(X_train, y_train)\n",
    "\n",
    "# Make predictions on the test set\n",
    "y_pred = pipeline.predict(X_test)\n",
    "\n",
    "# Evaluate the model on the entire test set\n",
    "rmse = mean_squared_error(y_test, y_pred, squared=False)\n",
    "r2 = r2_score(y_test, y_pred)\n",
    "\n",
    "print(f'Overall Root Mean Squared Error: {rmse}')\n",
    "print(f'Overall R-squared: {r2}')"
   ]
  },
  {
   "cell_type": "code",
   "execution_count": 10,
   "metadata": {},
   "outputs": [
    {
     "name": "stderr",
     "output_type": "stream",
     "text": [
      "c:\\Users\\david\\anaconda3\\Lib\\site-packages\\sklearn\\cluster\\_kmeans.py:870: FutureWarning: The default value of `n_init` will change from 10 to 'auto' in 1.4. Set the value of `n_init` explicitly to suppress the warning\n",
      "  warnings.warn(\n"
     ]
    },
    {
     "data": {
      "image/png": "[encoded data removed]",
      "text/plain": [
       "<Figure size 1000x600 with 1 Axes>"
      ]
     },
     "metadata": {},
     "output_type": "display_data"
    }
   ],
   "source": [
    "# What if we perform clustering and apply a regressor for each cluster?\n",
    "\n",
    "# Define features for clustering including the state\n",
    "X_clustering = df[['bathrooms', 'bedrooms', 'square_feet', 'latitude', 'longitude','state']]\n",
    "\n",
    "# One-hot encode the 'state' feature\n",
    "preprocessor = ColumnTransformer(\n",
    "    transformers=[\n",
    "        ('num', 'passthrough', ['bathrooms', 'bedrooms', 'square_feet', 'latitude', 'longitude']),\n",
    "        ('cat', OneHotEncoder(), ['state'])\n",
    "    ])\n",
    "X_clustering_encoded = preprocessor.fit_transform(X_clustering)\n",
    "\n",
    "# Standardize features\n",
    "scaler = StandardScaler(with_mean=False)  # Ensure with_mean=False to handle sparse matrices\n",
    "X_clustering_scaled = scaler.fit_transform(X_clustering_encoded)\n",
    "\n",
    "# Elbow Method\n",
    "wcss = []\n",
    "for n_clusters in range(2, 21):\n",
    "    kmeans = KMeans(n_clusters=n_clusters, random_state=42)\n",
    "    kmeans.fit(X_clustering_scaled)\n",
    "    wcss.append(kmeans.inertia_)\n",
    "\n",
    "plt.figure(figsize=(10, 6))\n",
    "plt.plot(range(2, 21), wcss, marker='o')\n",
    "plt.title('Elbow Method')\n",
    "plt.xlabel('Number of clusters')\n",
    "plt.ylabel('WCSS')\n",
    "plt.show()"
   ]
  },
  {
   "cell_type": "code",
   "execution_count": 11,
   "metadata": {},
   "outputs": [
    {
     "name": "stderr",
     "output_type": "stream",
     "text": [
      "c:\\Users\\david\\anaconda3\\Lib\\site-packages\\sklearn\\cluster\\_kmeans.py:870: FutureWarning: The default value of `n_init` will change from 10 to 'auto' in 1.4. Set the value of `n_init` explicitly to suppress the warning\n",
      "  warnings.warn(\n"
     ]
    },
    {
     "name": "stdout",
     "output_type": "stream",
     "text": [
      "          RMSE  R-squared\n",
      "3   225.870458   0.852182\n",
      "1   183.576734   0.845246\n",
      "0   183.792165   0.666513\n",
      "4   184.337591   0.780858\n",
      "9   249.484349   0.705390\n",
      "16  233.600516   0.594331\n",
      "12  219.145363   0.732510\n",
      "2   184.875495   0.754792\n",
      "6   206.248724   0.742607\n",
      "10  211.228429   0.836119\n",
      "18  181.946094   0.766996\n",
      "7   183.538115   0.804837\n",
      "5   129.419675   0.725366\n",
      "14  142.898307   0.811040\n",
      "17  248.211680   0.639016\n",
      "11  250.641612   0.727540\n",
      "15  173.796958   0.699758\n",
      "8   147.261825   0.824443\n",
      "19  136.178596   0.839401\n",
      "13  378.138167   0.504325\n"
     ]
    }
   ],
   "source": [
    "# Define features for clustering including the state\n",
    "X_clustering = df[['bathrooms', 'bedrooms', 'square_feet', 'latitude', 'longitude', 'state']]\n",
    "\n",
    "# One-hot encode the 'state' feature\n",
    "preprocessor = ColumnTransformer(\n",
    "    transformers=[\n",
    "        ('num', 'passthrough', ['bathrooms', 'bedrooms', 'square_feet', 'latitude', 'longitude']),\n",
    "        ('cat', OneHotEncoder(), ['state'])\n",
    "    ])\n",
    "X_clustering_encoded = preprocessor.fit_transform(X_clustering)\n",
    "\n",
    "# Standardize features\n",
    "scaler = StandardScaler(with_mean=False)\n",
    "X_clustering_scaled = scaler.fit_transform(X_clustering_encoded)\n",
    "\n",
    "# Perform K-Means clustering\n",
    "n_clusters = 20  # Adjust the number of clusters as needed\n",
    "kmeans = KMeans(n_clusters=n_clusters, random_state=42)\n",
    "df['cluster'] = kmeans.fit_predict(X_clustering_scaled)\n",
    "\n",
    "# Dictionary to store models and performance metrics for each cluster\n",
    "cluster_models = {}\n",
    "cluster_performance = {}\n",
    "\n",
    "# Iterate over each unique cluster\n",
    "for cluster in df['cluster'].unique():\n",
    "    # Filter the dataframe for the current cluster\n",
    "    df_cluster = df[df['cluster'] == cluster]\n",
    "    \n",
    "    # Define features and target variable\n",
    "    X_cluster = df_cluster[['bathrooms', 'bedrooms', 'square_feet', 'latitude', 'longitude', 'state']]\n",
    "    y_cluster = df_cluster['price']\n",
    "    \n",
    "    # Encode and scale the features\n",
    "    X_cluster_encoded = preprocessor.transform(X_cluster)\n",
    "    X_cluster_scaled = scaler.transform(X_cluster_encoded)\n",
    "    \n",
    "    # Train-test split for the cluster\n",
    "    X_train, X_test, y_train, y_test = train_test_split(X_cluster_scaled, y_cluster, test_size=0.2, random_state=42)\n",
    "    \n",
    "    # Train a RandomForestRegressor model for the cluster\n",
    "    model = RandomForestRegressor(random_state=42)\n",
    "    model.fit(X_train, y_train)\n",
    "    \n",
    "    # Make predictions on the test set\n",
    "    y_pred = model.predict(X_test)\n",
    "    \n",
    "    # Calculate performance metrics\n",
    "    rmse = mean_squared_error(y_test, y_pred, squared=False)\n",
    "    r2 = r2_score(y_test, y_pred)\n",
    "    \n",
    "    # Store the trained model and performance metrics in the dictionary\n",
    "    cluster_models[cluster] = model\n",
    "    cluster_performance[cluster] = {'RMSE': rmse, 'R-squared': r2}\n",
    "\n",
    "# Convert the performance metrics dictionary to a DataFrame for analysis\n",
    "performance_df = pd.DataFrame(cluster_performance).T  # Transpose for better readability\n",
    "\n",
    "# Print performance metrics for each cluster\n",
    "print(performance_df)"
   ]
  },
  {
   "cell_type": "code",
   "execution_count": 12,
   "metadata": {},
   "outputs": [
    {
     "data": {
      "text/plain": [
       "<Figure size 1400x600 with 0 Axes>"
      ]
     },
     "metadata": {},
     "output_type": "display_data"
    },
    {
     "data": {
      "image/png": "[encoded data removed]",
      "text/plain": [
       "<Figure size 1400x600 with 2 Axes>"
      ]
     },
     "metadata": {},
     "output_type": "display_data"
    }
   ],
   "source": [
    "# Plot RMSE and R-squared for each cluster\n",
    "plt.figure(figsize=(14, 6))\n",
    "\n",
    "# Sort the performance_df by index (cluster number)\n",
    "performance_df_sorted = performance_df.sort_index()\n",
    "\n",
    "# Plot RMSE and R-squared for each cluster\n",
    "plt.figure(figsize=(14, 6))\n",
    "\n",
    "# RMSE plot\n",
    "plt.subplot(1, 2, 1)\n",
    "sns.barplot(x=performance_df_sorted.index, y='RMSE', data=performance_df_sorted)\n",
    "plt.title('Root Mean Squared Error (RMSE) for Each Cluster')\n",
    "plt.xlabel('Cluster')\n",
    "plt.ylabel('RMSE')\n",
    "\n",
    "# R-squared plot\n",
    "plt.subplot(1, 2, 2)\n",
    "sns.barplot(x=performance_df_sorted.index, y='R-squared', data=performance_df_sorted)\n",
    "plt.title('R-squared for Each Cluster')\n",
    "plt.xlabel('Cluster')\n",
    "plt.ylabel('R-squared')\n",
    "\n",
    "plt.tight_layout()\n",
    "plt.show()"
   ]
  },
  {
   "cell_type": "markdown",
   "metadata": {},
   "source": [
    "I do not like this, the error in some clusters is too large."
   ]
  },
  {
   "cell_type": "markdown",
   "metadata": {},
   "source": [
    "Lets try to build a model per state. "
   ]
  },
  {
   "cell_type": "code",
   "execution_count": 13,
   "metadata": {},
   "outputs": [
    {
     "name": "stdout",
     "output_type": "stream",
     "text": [
      "          RMSE  R-squared\n",
      "TX  177.965537   0.765266\n",
      "VA  184.068279   0.844416\n",
      "CA  231.763676   0.796727\n",
      "CO  183.926286   0.781835\n",
      "NC  183.550277   0.667390\n",
      "FL  206.787917   0.741259\n",
      "MD  182.384510   0.765871\n",
      "OH  183.804353   0.804271\n",
      "GA  234.036964   0.592813\n",
      "MA  250.571257   0.727693\n",
      "NJ  212.098340   0.834767\n",
      "NV  144.022186   0.812417\n",
      "WA  189.001243   0.795285\n",
      "AZ  142.663392   0.811661\n",
      "LA  147.470509   0.823945\n",
      "MO  208.636646   0.700919\n",
      "PA  295.891279   0.634111\n",
      "TN  171.189763   0.774385\n",
      "NE  130.355749   0.721379\n"
     ]
    }
   ],
   "source": [
    "# Calculate the counts of each state\n",
    "state_counts = df['state'].value_counts()\n",
    "\n",
    "# Get the states with more than 1000 entries\n",
    "states_with_more_than_1000 = state_counts[state_counts > 1000].index\n",
    "\n",
    "# Dictionary to store models and performance metrics for each state\n",
    "state_models = {}\n",
    "state_performance = {}\n",
    "\n",
    "# Preprocessor to scale numerical features\n",
    "preprocessor = ColumnTransformer(\n",
    "    transformers=[\n",
    "        ('num', StandardScaler(), ['bathrooms', 'bedrooms', 'square_feet', 'latitude', 'longitude'])\n",
    "    ])\n",
    "\n",
    "# Iterate over each state with more than 1000 rows\n",
    "for state in states_with_more_than_1000:\n",
    "    # Filter the DataFrame for the current state\n",
    "    df_state = df[df['state'] == state]\n",
    "    \n",
    "    # Define features and target variable\n",
    "    X_state = df_state[['bathrooms', 'bedrooms', 'square_feet', 'latitude', 'longitude']]\n",
    "    y_state = df_state['price']\n",
    "    \n",
    "    # Train-test split for the state\n",
    "    X_train, X_test, y_train, y_test = train_test_split(X_state, y_state, test_size=0.2, random_state=42)\n",
    "    \n",
    "    # Create a pipeline with a preprocessor and a model\n",
    "    pipeline = Pipeline(steps=[\n",
    "        ('preprocessor', preprocessor),\n",
    "        ('model', RandomForestRegressor(random_state=42))\n",
    "    ])\n",
    "    \n",
    "    # Fit the model\n",
    "    pipeline.fit(X_train, y_train)\n",
    "    \n",
    "    # Make predictions on the test set\n",
    "    y_pred = pipeline.predict(X_test)\n",
    "    \n",
    "    # Calculate performance metrics\n",
    "    rmse = mean_squared_error(y_test, y_pred, squared=False)\n",
    "    r2 = r2_score(y_test, y_pred)\n",
    "    \n",
    "    # Store the trained model and performance metrics in the dictionary\n",
    "    state_models[state] = pipeline\n",
    "    state_performance[state] = {'RMSE': rmse, 'R-squared': r2}\n",
    "\n",
    "# Convert the performance metrics dictionary to a DataFrame for analysis\n",
    "performance_df = pd.DataFrame(state_performance).T  # Transpose for better readability\n",
    "\n",
    "# Print performance metrics for each state\n",
    "print(performance_df)"
   ]
  },
  {
   "cell_type": "code",
   "execution_count": 14,
   "metadata": {},
   "outputs": [
    {
     "name": "stdout",
     "output_type": "stream",
     "text": [
      "          RMSE  R-squared\n",
      "TX  177.965537   0.765266\n",
      "VA  184.068279   0.844416\n",
      "CA  231.763676   0.796727\n",
      "CO  183.926286   0.781835\n",
      "NC  183.550277   0.667390\n",
      "FL  206.787917   0.741259\n",
      "MD  182.384510   0.765871\n",
      "OH  183.804353   0.804271\n",
      "GA  234.036964   0.592813\n",
      "MA  247.976010   0.733304\n",
      "NJ  212.098340   0.834767\n",
      "NV  145.176004   0.809399\n",
      "WA  189.001243   0.795285\n",
      "AZ  142.663392   0.811661\n",
      "LA  147.470509   0.823945\n",
      "MO  210.183428   0.696468\n",
      "PA  294.660149   0.637149\n",
      "TN  172.147711   0.771853\n",
      "NE  128.097574   0.730949\n"
     ]
    }
   ],
   "source": [
    "# Define a simpler parameter grid\n",
    "param_grid = {\n",
    "    'model__n_estimators': [50, 100],\n",
    "    'model__max_depth': [None, 10],\n",
    "}\n",
    "\n",
    "# Iterate over each state with more than 1000 rows\n",
    "for state in states_with_more_than_1000:\n",
    "    # Filter the DataFrame for the current state\n",
    "    df_state = df[df['state'] == state]\n",
    "    \n",
    "    # Define features and target variable\n",
    "    X_state = df_state[['bathrooms', 'bedrooms', 'square_feet', 'latitude', 'longitude']]\n",
    "    y_state = df_state['price']\n",
    "    \n",
    "    # Train-test split for the state\n",
    "    X_train, X_test, y_train, y_test = train_test_split(X_state, y_state, test_size=0.2, random_state=42)\n",
    "    \n",
    "    # Create a pipeline with a preprocessor and a model\n",
    "    pipeline = Pipeline(steps=[\n",
    "        ('preprocessor', preprocessor),\n",
    "        ('model', RandomForestRegressor(random_state=42))\n",
    "    ])\n",
    "    \n",
    "    # Perform hyperparameter tuning using GridSearchCV\n",
    "    grid_search = GridSearchCV(estimator=pipeline, param_grid=param_grid, cv=3, n_jobs=-1, scoring='r2')\n",
    "    grid_search.fit(X_train, y_train)\n",
    "    \n",
    "    # Get the best model from GridSearchCV\n",
    "    best_model = grid_search.best_estimator_\n",
    "    \n",
    "    # Make predictions on the test set\n",
    "    y_pred = best_model.predict(X_test)\n",
    "    \n",
    "    # Calculate performance metrics\n",
    "    rmse = mean_squared_error(y_test, y_pred, squared=False)\n",
    "    r2 = r2_score(y_test, y_pred)\n",
    "    \n",
    "    # Store the trained model and performance metrics in the dictionary\n",
    "    state_models[state] = best_model\n",
    "    state_performance[state] = {'RMSE': rmse, 'R-squared': r2}\n",
    "\n",
    "# Convert the performance metrics dictionary to a DataFrame for analysis\n",
    "performance_df = pd.DataFrame(state_performance).T  # Transpose for better readability\n",
    "\n",
    "# Print performance metrics for each state\n",
    "print(performance_df)"
   ]
  },
  {
   "cell_type": "markdown",
   "metadata": {},
   "source": [
    "I am going to remove states where the model performed well (below $185 RMSE) and focus on improving predictions for the remaining states."
   ]
  },
  {
   "cell_type": "code",
   "execution_count": 15,
   "metadata": {},
   "outputs": [
    {
     "name": "stdout",
     "output_type": "stream",
     "text": [
      "Well-performing state models saved successfully.\n"
     ]
    }
   ],
   "source": [
    "# List of states with RMSE below $185\n",
    "well_performing_states = ['TX', 'VA', 'CO', 'NC', 'MD', 'OH', 'NV', 'AZ', 'LA', 'TN', 'NE']\n",
    "\n",
    "# Save each model\n",
    "# for state in well_performing_states:\n",
    "#    model = state_models[state]\n",
    "#    joblib.dump(model, f'{state}_model.pkl')\n",
    "\n",
    "print(\"Well-performing state models saved successfully.\")"
   ]
  },
  {
   "cell_type": "code",
   "execution_count": 16,
   "metadata": {},
   "outputs": [
    {
     "name": "stdout",
     "output_type": "stream",
     "text": [
      "Filtered dataset created successfully.\n"
     ]
    }
   ],
   "source": [
    "# Filter out well-performing states from the dataset\n",
    "filtered_df = df[~df['state'].isin(well_performing_states)]\n",
    "\n",
    "print(\"Filtered dataset created successfully.\")"
   ]
  },
  {
   "cell_type": "code",
   "execution_count": 18,
   "metadata": {},
   "outputs": [
    {
     "data": {
      "text/plain": [
       "(42632, 10)"
      ]
     },
     "execution_count": 18,
     "metadata": {},
     "output_type": "execute_result"
    }
   ],
   "source": [
    "filtered_df.shape"
   ]
  },
  {
   "cell_type": "code",
   "execution_count": 20,
   "metadata": {},
   "outputs": [
    {
     "name": "stderr",
     "output_type": "stream",
     "text": [
      "c:\\Users\\david\\anaconda3\\Lib\\site-packages\\sklearn\\cluster\\_kmeans.py:870: FutureWarning: The default value of `n_init` will change from 10 to 'auto' in 1.4. Set the value of `n_init` explicitly to suppress the warning\n",
      "  warnings.warn(\n",
      "c:\\Users\\david\\anaconda3\\Lib\\site-packages\\sklearn\\cluster\\_kmeans.py:870: FutureWarning: The default value of `n_init` will change from 10 to 'auto' in 1.4. Set the value of `n_init` explicitly to suppress the warning\n",
      "  warnings.warn(\n",
      "c:\\Users\\david\\anaconda3\\Lib\\site-packages\\sklearn\\cluster\\_kmeans.py:870: FutureWarning: The default value of `n_init` will change from 10 to 'auto' in 1.4. Set the value of `n_init` explicitly to suppress the warning\n",
      "  warnings.warn(\n",
      "c:\\Users\\david\\anaconda3\\Lib\\site-packages\\sklearn\\cluster\\_kmeans.py:870: FutureWarning: The default value of `n_init` will change from 10 to 'auto' in 1.4. Set the value of `n_init` explicitly to suppress the warning\n",
      "  warnings.warn(\n",
      "c:\\Users\\david\\anaconda3\\Lib\\site-packages\\sklearn\\cluster\\_kmeans.py:870: FutureWarning: The default value of `n_init` will change from 10 to 'auto' in 1.4. Set the value of `n_init` explicitly to suppress the warning\n",
      "  warnings.warn(\n",
      "c:\\Users\\david\\anaconda3\\Lib\\site-packages\\sklearn\\cluster\\_kmeans.py:870: FutureWarning: The default value of `n_init` will change from 10 to 'auto' in 1.4. Set the value of `n_init` explicitly to suppress the warning\n",
      "  warnings.warn(\n",
      "c:\\Users\\david\\anaconda3\\Lib\\site-packages\\sklearn\\cluster\\_kmeans.py:870: FutureWarning: The default value of `n_init` will change from 10 to 'auto' in 1.4. Set the value of `n_init` explicitly to suppress the warning\n",
      "  warnings.warn(\n",
      "c:\\Users\\david\\anaconda3\\Lib\\site-packages\\sklearn\\cluster\\_kmeans.py:870: FutureWarning: The default value of `n_init` will change from 10 to 'auto' in 1.4. Set the value of `n_init` explicitly to suppress the warning\n",
      "  warnings.warn(\n",
      "c:\\Users\\david\\anaconda3\\Lib\\site-packages\\sklearn\\cluster\\_kmeans.py:870: FutureWarning: The default value of `n_init` will change from 10 to 'auto' in 1.4. Set the value of `n_init` explicitly to suppress the warning\n",
      "  warnings.warn(\n",
      "c:\\Users\\david\\anaconda3\\Lib\\site-packages\\sklearn\\cluster\\_kmeans.py:870: FutureWarning: The default value of `n_init` will change from 10 to 'auto' in 1.4. Set the value of `n_init` explicitly to suppress the warning\n",
      "  warnings.warn(\n"
     ]
    },
    {
     "data": {
      "image/png": "[encoded data removed]",
      "text/plain": [
       "<Figure size 1000x600 with 1 Axes>"
      ]
     },
     "metadata": {},
     "output_type": "display_data"
    }
   ],
   "source": [
    "# Select features for clustering\n",
    "clustering_features = filtered_df[['bathrooms', 'bedrooms', 'square_feet', 'latitude', 'longitude']]\n",
    "\n",
    "# Normalize the data\n",
    "scaler = StandardScaler()\n",
    "normalized_data = scaler.fit_transform(clustering_features)\n",
    "\n",
    "# Elbow Method to find the optimal number of clusters\n",
    "inertia = []\n",
    "K = range(1, 11)\n",
    "\n",
    "for k in K:\n",
    "    kmeans = KMeans(n_clusters=k, random_state=42)\n",
    "    kmeans.fit(normalized_data)\n",
    "    inertia.append(kmeans.inertia_)\n",
    "\n",
    "# Plot the Elbow graph\n",
    "plt.figure(figsize=(10, 6))\n",
    "plt.plot(K, inertia, 'bx-')\n",
    "plt.xlabel('Number of clusters')\n",
    "plt.ylabel('Inertia')\n",
    "plt.title('Elbow Method for Optimal Number of Clusters')\n",
    "plt.show()"
   ]
  },
  {
   "cell_type": "code",
   "execution_count": 41,
   "metadata": {},
   "outputs": [
    {
     "name": "stderr",
     "output_type": "stream",
     "text": [
      "c:\\Users\\david\\anaconda3\\Lib\\site-packages\\sklearn\\cluster\\_kmeans.py:870: FutureWarning: The default value of `n_init` will change from 10 to 'auto' in 1.4. Set the value of `n_init` explicitly to suppress the warning\n",
      "  warnings.warn(\n",
      "C:\\Users\\david\\AppData\\Local\\Temp\\ipykernel_8556\\157983475.py:6: SettingWithCopyWarning: \n",
      "A value is trying to be set on a copy of a slice from a DataFrame.\n",
      "Try using .loc[row_indexer,col_indexer] = value instead\n",
      "\n",
      "See the caveats in the documentation: https://pandas.pydata.org/pandas-docs/stable/user_guide/indexing.html#returning-a-view-versus-a-copy\n",
      "  filtered_df['cluster'] = clusters\n"
     ]
    }
   ],
   "source": [
    "# Perform K-Means clustering with 6 clusters\n",
    "kmeans = KMeans(n_clusters=6, random_state=42)\n",
    "clusters = kmeans.fit_predict(normalized_data)\n",
    "\n",
    "# Add the cluster labels to the dataframe\n",
    "filtered_df['cluster'] = clusters\n",
    "\n",
    "# Function to train and evaluate a model for a given cluster\n",
    "def train_and_evaluate_cluster_model(cluster_data, cluster_label):\n",
    "    X = cluster_data[['bathrooms', 'bedrooms', 'square_feet', 'latitude', 'longitude']]\n",
    "    y = cluster_data['price']\n",
    "    \n",
    "    # Split the data (you can also use cross-validation)\n",
    "    X_train, X_test, y_train, y_test = train_test_split(X, y, test_size=0.2, random_state=42)\n",
    "    \n",
    "    # Train the model\n",
    "    model = RandomForestRegressor(n_estimators=200, max_depth=50, max_features='auto', \n",
    "                                  min_samples_leaf=2, min_samples_split=10, random_state=42)\n",
    "    model.fit(X_train, y_train)\n",
    "    \n",
    "    # Evaluate the model\n",
    "    y_pred = model.predict(X_test)\n",
    "    rmse = mean_squared_error(y_test, y_pred, squared=False)\n",
    "    r2 = r2_score(y_test, y_pred)\n",
    "    \n",
    "    print(f\"Cluster {cluster_label} - RMSE: {rmse}, R-squared: {r2}\")\n",
    "    \n",
    "    return model, rmse, r2"
   ]
  },
  {
   "cell_type": "code",
   "execution_count": 50,
   "metadata": {},
   "outputs": [
    {
     "name": "stdout",
     "output_type": "stream",
     "text": [
      "Cluster 0 has the following states: IL, PA, WI, OK, RI, NJ, IN, MO, ND, MA, IA, NY, KY, SD, MI, MN, DC, KS, CT, VT, NH, AR, DE, ME, WV\n",
      "Cluster 1 has the following states: WV, IA, WI, DC, ND, MI, IN, MN, MO, PA, IL, OK, SD, MA, KS, NH, RI, SC, GA, NJ, UT, KY, CT, FL, NY, AR, AL, MT, NM, VT, WA, ME, ID, DE, WY, CA, MS\n",
      "Cluster 2 has the following states: GA, DC, MS, FL, MO, IA, IL, SC, PA, IN, AL, AR, CT, NJ, MI, NY, WI, KS, OK, MN, MA, NH, SD, KY, ME, VT, WV, RI\n",
      "Cluster 3 has the following states: CA, NM, OR, UT, WA, ID, AK, HI, MT, OK, KS, WY\n",
      "Cluster 4 has the following states: NM, CA, WA, ND, UT, ID, WI, AK, OR, MN, HI, WY, IA, KS, SD, IL, OK, MT, MO, AR\n",
      "Cluster 5 has the following states: FL, OK, GA, AR, AL, SC, MS, MO\n"
     ]
    }
   ],
   "source": [
    "for cluster_label in range(6):\n",
    "    cluster_states = filtered_df[filtered_df['cluster'] == cluster_label]['state'].unique()\n",
    "    print(f\"Cluster {cluster_label} has the following states: {', '.join(cluster_states)}\")"
   ]
  },
  {
   "cell_type": "code",
   "execution_count": 42,
   "metadata": {},
   "outputs": [
    {
     "name": "stderr",
     "output_type": "stream",
     "text": [
      "c:\\Users\\david\\anaconda3\\Lib\\site-packages\\sklearn\\ensemble\\_forest.py:413: FutureWarning: `max_features='auto'` has been deprecated in 1.1 and will be removed in 1.3. To keep the past behaviour, explicitly set `max_features=1.0` or remove this parameter as it is also the default value for RandomForestRegressors and ExtraTreesRegressors.\n",
      "  warn(\n"
     ]
    },
    {
     "name": "stdout",
     "output_type": "stream",
     "text": [
      "Cluster 0 - RMSE: 231.78170982808172, R-squared: 0.8424361199952992\n"
     ]
    },
    {
     "name": "stderr",
     "output_type": "stream",
     "text": [
      "c:\\Users\\david\\anaconda3\\Lib\\site-packages\\sklearn\\ensemble\\_forest.py:413: FutureWarning: `max_features='auto'` has been deprecated in 1.1 and will be removed in 1.3. To keep the past behaviour, explicitly set `max_features=1.0` or remove this parameter as it is also the default value for RandomForestRegressors and ExtraTreesRegressors.\n",
      "  warn(\n"
     ]
    },
    {
     "name": "stdout",
     "output_type": "stream",
     "text": [
      "Cluster 1 - RMSE: 237.61655421887036, R-squared: 0.8126018238344737\n"
     ]
    },
    {
     "name": "stderr",
     "output_type": "stream",
     "text": [
      "c:\\Users\\david\\anaconda3\\Lib\\site-packages\\sklearn\\ensemble\\_forest.py:413: FutureWarning: `max_features='auto'` has been deprecated in 1.1 and will be removed in 1.3. To keep the past behaviour, explicitly set `max_features=1.0` or remove this parameter as it is also the default value for RandomForestRegressors and ExtraTreesRegressors.\n",
      "  warn(\n"
     ]
    },
    {
     "name": "stdout",
     "output_type": "stream",
     "text": [
      "Cluster 2 - RMSE: 252.6601428512372, R-squared: 0.7761039984613549\n"
     ]
    },
    {
     "name": "stderr",
     "output_type": "stream",
     "text": [
      "c:\\Users\\david\\anaconda3\\Lib\\site-packages\\sklearn\\ensemble\\_forest.py:413: FutureWarning: `max_features='auto'` has been deprecated in 1.1 and will be removed in 1.3. To keep the past behaviour, explicitly set `max_features=1.0` or remove this parameter as it is also the default value for RandomForestRegressors and ExtraTreesRegressors.\n",
      "  warn(\n"
     ]
    },
    {
     "name": "stdout",
     "output_type": "stream",
     "text": [
      "Cluster 3 - RMSE: 223.06780188789483, R-squared: 0.8188109316139405\n"
     ]
    },
    {
     "name": "stderr",
     "output_type": "stream",
     "text": [
      "c:\\Users\\david\\anaconda3\\Lib\\site-packages\\sklearn\\ensemble\\_forest.py:413: FutureWarning: `max_features='auto'` has been deprecated in 1.1 and will be removed in 1.3. To keep the past behaviour, explicitly set `max_features=1.0` or remove this parameter as it is also the default value for RandomForestRegressors and ExtraTreesRegressors.\n",
      "  warn(\n"
     ]
    },
    {
     "name": "stdout",
     "output_type": "stream",
     "text": [
      "Cluster 4 - RMSE: 241.69662892281758, R-squared: 0.8085276807796294\n"
     ]
    },
    {
     "name": "stderr",
     "output_type": "stream",
     "text": [
      "c:\\Users\\david\\anaconda3\\Lib\\site-packages\\sklearn\\ensemble\\_forest.py:413: FutureWarning: `max_features='auto'` has been deprecated in 1.1 and will be removed in 1.3. To keep the past behaviour, explicitly set `max_features=1.0` or remove this parameter as it is also the default value for RandomForestRegressors and ExtraTreesRegressors.\n",
      "  warn(\n"
     ]
    },
    {
     "name": "stdout",
     "output_type": "stream",
     "text": [
      "Cluster 5 - RMSE: 181.7985409638865, R-squared: 0.6877437196761642\n",
      "Cluster 0 - RMSE: 231.78170982808172, R-squared: 0.8424361199952992\n",
      "Cluster 1 - RMSE: 237.61655421887036, R-squared: 0.8126018238344737\n",
      "Cluster 2 - RMSE: 252.6601428512372, R-squared: 0.7761039984613549\n",
      "Cluster 3 - RMSE: 223.06780188789483, R-squared: 0.8188109316139405\n",
      "Cluster 4 - RMSE: 241.69662892281758, R-squared: 0.8085276807796294\n",
      "Cluster 5 - RMSE: 181.7985409638865, R-squared: 0.6877437196761642\n"
     ]
    }
   ],
   "source": [
    "# Train and evaluate models for each cluster\n",
    "cluster_models = {}\n",
    "for cluster_label in range(6):\n",
    "    cluster_data = filtered_df[filtered_df['cluster'] == cluster_label]\n",
    "    model, rmse, r2 = train_and_evaluate_cluster_model(cluster_data, cluster_label)\n",
    "    cluster_models[cluster_label] = (model, rmse, r2)\n",
    "\n",
    "# Display the evaluation results\n",
    "for cluster_label, (model, rmse, r2) in cluster_models.items():\n",
    "    print(f\"Cluster {cluster_label} - RMSE: {rmse}, R-squared: {r2}\")"
   ]
  },
  {
   "cell_type": "code",
   "execution_count": 43,
   "metadata": {},
   "outputs": [],
   "source": [
    "# Lets see if we can improve these numbers\n",
    "\n",
    "param_grid = {\n",
    "    'n_estimators': [100, 200],\n",
    "    'max_depth': [20, 50],\n",
    "    'min_samples_split': [2, 10],\n",
    "    'min_samples_leaf': [1, 2]\n",
    "}\n",
    "\n",
    "# Function to train and evaluate a model for a given cluster with simplified hyperparameter tuning\n",
    "def train_and_tune_cluster_model(cluster_data, cluster_label):\n",
    "    X = cluster_data[['bathrooms', 'bedrooms', 'square_feet', 'latitude', 'longitude']]\n",
    "    y = cluster_data['price']\n",
    "    \n",
    "    # Split the data\n",
    "    X_train, X_test, y_train, y_test = train_test_split(X, y, test_size=0.2, random_state=42)\n",
    "    \n",
    "    # Define the model\n",
    "    rf = RandomForestRegressor(random_state=42)\n",
    "    \n",
    "    # Set up the GridSearchCV\n",
    "    grid_search = GridSearchCV(estimator=rf, param_grid=param_grid, cv=3, n_jobs=-1, verbose=2)\n",
    "    \n",
    "    # Train the model with hyperparameter tuning\n",
    "    grid_search.fit(X_train, y_train)\n",
    "    \n",
    "    # Get the best model\n",
    "    best_model = grid_search.best_estimator_\n",
    "    \n",
    "    # Evaluate the model\n",
    "    y_pred = best_model.predict(X_test)\n",
    "    rmse = mean_squared_error(y_test, y_pred, squared=False)\n",
    "    r2 = r2_score(y_test, y_pred)\n",
    "    \n",
    "    print(f\"Cluster {cluster_label} - RMSE: {rmse}, R-squared: {r2}\")\n",
    "    print(f\"Best Parameters for Cluster {cluster_label}: {grid_search.best_params_}\")\n",
    "    \n",
    "    return best_model, rmse, r2"
   ]
  },
  {
   "cell_type": "code",
   "execution_count": 44,
   "metadata": {},
   "outputs": [
    {
     "name": "stdout",
     "output_type": "stream",
     "text": [
      "Fitting 3 folds for each of 16 candidates, totalling 48 fits\n",
      "Cluster 0 - RMSE: 228.9706327765137, R-squared: 0.8462348518966567\n",
      "Best Parameters for Cluster 0: {'max_depth': 20, 'min_samples_leaf': 2, 'min_samples_split': 2, 'n_estimators': 200}\n",
      "Fitting 3 folds for each of 16 candidates, totalling 48 fits\n",
      "Cluster 1 - RMSE: 234.19960631218467, R-squared: 0.8179526783412376\n",
      "Best Parameters for Cluster 1: {'max_depth': 20, 'min_samples_leaf': 1, 'min_samples_split': 2, 'n_estimators': 200}\n",
      "Fitting 3 folds for each of 16 candidates, totalling 48 fits\n",
      "Cluster 2 - RMSE: 249.0336049878601, R-squared: 0.7824852192012445\n",
      "Best Parameters for Cluster 2: {'max_depth': 50, 'min_samples_leaf': 1, 'min_samples_split': 2, 'n_estimators': 200}\n",
      "Fitting 3 folds for each of 16 candidates, totalling 48 fits\n",
      "Cluster 3 - RMSE: 219.0921224463519, R-squared: 0.8252119482184399\n",
      "Best Parameters for Cluster 3: {'max_depth': 20, 'min_samples_leaf': 1, 'min_samples_split': 2, 'n_estimators': 200}\n",
      "Fitting 3 folds for each of 16 candidates, totalling 48 fits\n",
      "Cluster 4 - RMSE: 241.93283951518873, R-squared: 0.8081532453499624\n",
      "Best Parameters for Cluster 4: {'max_depth': 50, 'min_samples_leaf': 2, 'min_samples_split': 2, 'n_estimators': 200}\n",
      "Fitting 3 folds for each of 16 candidates, totalling 48 fits\n",
      "Cluster 5 - RMSE: 175.85667958908058, R-squared: 0.7078215823342431\n",
      "Best Parameters for Cluster 5: {'max_depth': 20, 'min_samples_leaf': 1, 'min_samples_split': 2, 'n_estimators': 100}\n",
      "Cluster 0 - RMSE: 228.9706327765137, R-squared: 0.8462348518966567\n",
      "Cluster 1 - RMSE: 234.19960631218467, R-squared: 0.8179526783412376\n",
      "Cluster 2 - RMSE: 249.0336049878601, R-squared: 0.7824852192012445\n",
      "Cluster 3 - RMSE: 219.0921224463519, R-squared: 0.8252119482184399\n",
      "Cluster 4 - RMSE: 241.93283951518873, R-squared: 0.8081532453499624\n",
      "Cluster 5 - RMSE: 175.85667958908058, R-squared: 0.7078215823342431\n"
     ]
    }
   ],
   "source": [
    "# Train and tune models for each cluster\n",
    "cluster_models = {}\n",
    "for cluster_label in range(6):\n",
    "    cluster_data = filtered_df[filtered_df['cluster'] == cluster_label]\n",
    "    model, rmse, r2 = train_and_tune_cluster_model(cluster_data, cluster_label)\n",
    "    cluster_models[cluster_label] = (model, rmse, r2)\n",
    "\n",
    "# Display the evaluation results\n",
    "for cluster_label, (model, rmse, r2) in cluster_models.items():\n",
    "    print(f\"Cluster {cluster_label} - RMSE: {rmse}, R-squared: {r2}\")"
   ]
  },
  {
   "cell_type": "code",
   "execution_count": 45,
   "metadata": {},
   "outputs": [
    {
     "name": "stdout",
     "output_type": "stream",
     "text": [
      "Cluster 0 - RMSE: 239.88315680912925, R-squared: 0.8312289885913595\n",
      "Cluster 1 - RMSE: 243.9356906700885, R-squared: 0.8025020158401713\n",
      "Cluster 2 - RMSE: 270.9299229148061, R-squared: 0.742553607893171\n",
      "Cluster 3 - RMSE: 226.21068650792355, R-squared: 0.8136692843499176\n",
      "Cluster 4 - RMSE: 245.94353732517303, R-squared: 0.8017397535720239\n",
      "Cluster 5 - RMSE: 183.80051168030633, R-squared: 0.6808287038659844\n",
      "Cluster 0 - RMSE: 239.88315680912925, R-squared: 0.8312289885913595\n",
      "Cluster 1 - RMSE: 243.9356906700885, R-squared: 0.8025020158401713\n",
      "Cluster 2 - RMSE: 270.9299229148061, R-squared: 0.742553607893171\n",
      "Cluster 3 - RMSE: 226.21068650792355, R-squared: 0.8136692843499176\n",
      "Cluster 4 - RMSE: 245.94353732517303, R-squared: 0.8017397535720239\n",
      "Cluster 5 - RMSE: 183.80051168030633, R-squared: 0.6808287038659844\n"
     ]
    }
   ],
   "source": [
    "import xgboost as xgb\n",
    "\n",
    "# Example: Using XGBoost\n",
    "def train_xgboost_model(cluster_data, cluster_label):\n",
    "    X = cluster_data[['bathrooms', 'bedrooms', 'square_feet', 'latitude', 'longitude']]\n",
    "    y = cluster_data['price']\n",
    "    \n",
    "    # Split the data\n",
    "    X_train, X_test, y_train, y_test = train_test_split(X, y, test_size=0.2, random_state=42)\n",
    "    \n",
    "    # Define the model\n",
    "    model = xgb.XGBRegressor(objective='reg:squarederror', n_estimators=200, max_depth=5, learning_rate=0.1, random_state=42)\n",
    "    model.fit(X_train, y_train)\n",
    "    \n",
    "    # Evaluate the model\n",
    "    y_pred = model.predict(X_test)\n",
    "    rmse = mean_squared_error(y_test, y_pred, squared=False)\n",
    "    r2 = r2_score(y_test, y_pred)\n",
    "    \n",
    "    print(f\"Cluster {cluster_label} - RMSE: {rmse}, R-squared: {r2}\")\n",
    "    \n",
    "    return model, rmse, r2\n",
    "\n",
    "# Train and evaluate XGBoost models for each cluster\n",
    "xgboost_models = {}\n",
    "for cluster_label in range(6):\n",
    "    cluster_data = filtered_df[filtered_df['cluster'] == cluster_label]\n",
    "    model, rmse, r2 = train_xgboost_model(cluster_data, cluster_label)\n",
    "    xgboost_models[cluster_label] = (model, rmse, r2)\n",
    "\n",
    "# Display the evaluation results\n",
    "for cluster_label, (model, rmse, r2) in xgboost_models.items():\n",
    "    print(f\"Cluster {cluster_label} - RMSE: {rmse}, R-squared: {r2}\")\n"
   ]
  },
  {
   "cell_type": "code",
   "execution_count": 46,
   "metadata": {},
   "outputs": [
    {
     "name": "stdout",
     "output_type": "stream",
     "text": [
      "Cluster 0 - RMSE: 223.05676335848875, R-squared: 0.854075190696374\n",
      "Cluster 1 - RMSE: 231.53458198892062, R-squared: 0.8220722424814817\n",
      "Cluster 2 - RMSE: 247.50962539351812, R-squared: 0.7851392690791096\n",
      "Cluster 3 - RMSE: 213.72062460617207, R-squared: 0.8336774687023448\n",
      "Cluster 4 - RMSE: 240.15740318124296, R-squared: 0.8109586677256747\n",
      "Cluster 5 - RMSE: 172.28907839161417, R-squared: 0.7195561691935091\n",
      "Cluster 0 - RMSE: 223.05676335848875, R-squared: 0.854075190696374\n",
      "Cluster 1 - RMSE: 231.53458198892062, R-squared: 0.8220722424814817\n",
      "Cluster 2 - RMSE: 247.50962539351812, R-squared: 0.7851392690791096\n",
      "Cluster 3 - RMSE: 213.72062460617207, R-squared: 0.8336774687023448\n",
      "Cluster 4 - RMSE: 240.15740318124296, R-squared: 0.8109586677256747\n",
      "Cluster 5 - RMSE: 172.28907839161417, R-squared: 0.7195561691935091\n"
     ]
    }
   ],
   "source": [
    "from sklearn.ensemble import GradientBoostingRegressor, VotingRegressor\n",
    "\n",
    "# Example: Combine Random Forest and Gradient Boosting\n",
    "def train_ensemble_model(cluster_data, cluster_label):\n",
    "    X = cluster_data[['bathrooms', 'bedrooms', 'square_feet', 'latitude', 'longitude']]\n",
    "    y = cluster_data['price']\n",
    "    \n",
    "    # Split the data\n",
    "    X_train, X_test, y_train, y_test = train_test_split(X, y, test_size=0.2, random_state=42)\n",
    "    \n",
    "    # Define individual models\n",
    "    rf = RandomForestRegressor(n_estimators=200, max_depth=50, random_state=42)\n",
    "    gb = GradientBoostingRegressor(n_estimators=200, max_depth=5, random_state=42)\n",
    "    \n",
    "    # Combine models using Voting Regressor\n",
    "    ensemble = VotingRegressor([('rf', rf), ('gb', gb)])\n",
    "    ensemble.fit(X_train, y_train)\n",
    "    \n",
    "    # Evaluate the ensemble model\n",
    "    y_pred = ensemble.predict(X_test)\n",
    "    rmse = mean_squared_error(y_test, y_pred, squared=False)\n",
    "    r2 = r2_score(y_test, y_pred)\n",
    "    \n",
    "    print(f\"Cluster {cluster_label} - RMSE: {rmse}, R-squared: {r2}\")\n",
    "    \n",
    "    return ensemble, rmse, r2\n",
    "\n",
    "# Train and evaluate ensemble models for each cluster\n",
    "ensemble_models = {}\n",
    "for cluster_label in range(6):\n",
    "    cluster_data = filtered_df[filtered_df['cluster'] == cluster_label]\n",
    "    model, rmse, r2 = train_ensemble_model(cluster_data, cluster_label)\n",
    "    ensemble_models[cluster_label] = (model, rmse, r2)\n",
    "\n",
    "# Display the evaluation results\n",
    "for cluster_label, (model, rmse, r2) in ensemble_models.items():\n",
    "    print(f\"Cluster {cluster_label} - RMSE: {rmse}, R-squared: {r2}\")"
   ]
  },
  {
   "cell_type": "code",
   "execution_count": 47,
   "metadata": {},
   "outputs": [
    {
     "name": "stderr",
     "output_type": "stream",
     "text": [
      "c:\\Users\\david\\anaconda3\\Lib\\site-packages\\sklearn\\cluster\\_kmeans.py:870: FutureWarning: The default value of `n_init` will change from 10 to 'auto' in 1.4. Set the value of `n_init` explicitly to suppress the warning\n",
      "  warnings.warn(\n"
     ]
    }
   ],
   "source": [
    "# Select features for polynomial transformation\n",
    "features = filtered_df[['bathrooms', 'bedrooms', 'square_feet', 'latitude', 'longitude']]\n",
    "\n",
    "# Create polynomial features\n",
    "poly = PolynomialFeatures(degree=2, interaction_only=True, include_bias=False)\n",
    "poly_features = poly.fit_transform(features)\n",
    "\n",
    "# Convert back to DataFrame\n",
    "poly_df = pd.DataFrame(poly_features, columns=poly.get_feature_names_out(['bathrooms', 'bedrooms', 'square_feet', 'latitude', 'longitude']))\n",
    "\n",
    "# Normalize the polynomial features\n",
    "scaler = StandardScaler()\n",
    "normalized_poly_features = scaler.fit_transform(poly_df)\n",
    "\n",
    "# Perform K-Means clustering with 6 clusters\n",
    "kmeans = KMeans(n_clusters=6, random_state=42)\n",
    "clusters = kmeans.fit_predict(normalized_poly_features)\n",
    "\n",
    "# Add cluster labels back to the polynomial DataFrame\n",
    "poly_df['cluster'] = clusters\n",
    "\n",
    "# Add the price back to the polynomial DataFrame\n",
    "poly_df['price'] = filtered_df['price'].values\n"
   ]
  },
  {
   "cell_type": "code",
   "execution_count": 48,
   "metadata": {},
   "outputs": [],
   "source": [
    "# Define a simplified parameter grid\n",
    "param_grid = {\n",
    "    'n_estimators': [100, 200],\n",
    "    'max_depth': [20, 50],\n",
    "    'min_samples_split': [2, 10],\n",
    "    'min_samples_leaf': [1, 2]\n",
    "}\n",
    "\n",
    "# Function to train and evaluate a model for a given cluster with hyperparameter tuning\n",
    "def train_and_tune_cluster_model(cluster_data, cluster_label):\n",
    "    feature_columns = [col for col in cluster_data.columns if col not in ['cluster', 'price']]\n",
    "    X = cluster_data[feature_columns]\n",
    "    y = cluster_data['price']\n",
    "    \n",
    "    # Split the data\n",
    "    X_train, X_test, y_train, y_test = train_test_split(X, y, test_size=0.2, random_state=42)\n",
    "    \n",
    "    # Define the model\n",
    "    rf = RandomForestRegressor(random_state=42)\n",
    "    \n",
    "    # Set up the GridSearchCV\n",
    "    grid_search = GridSearchCV(estimator=rf, param_grid=param_grid, cv=3, n_jobs=-1, verbose=2)\n",
    "    \n",
    "    # Train the model with hyperparameter tuning\n",
    "    grid_search.fit(X_train, y_train)\n",
    "    \n",
    "    # Get the best model\n",
    "    best_model = grid_search.best_estimator_\n",
    "    \n",
    "    # Evaluate the model\n",
    "    y_pred = best_model.predict(X_test)\n",
    "    rmse = mean_squared_error(y_test, y_pred, squared=False)\n",
    "    r2 = r2_score(y_test, y_pred)\n",
    "    \n",
    "    print(f\"Cluster {cluster_label} - RMSE: {rmse}, R-squared: {r2}\")\n",
    "    print(f\"Best Parameters for Cluster {cluster_label}: {grid_search.best_params_}\")\n",
    "    \n",
    "    return best_model, rmse, r2\n"
   ]
  },
  {
   "cell_type": "code",
   "execution_count": 49,
   "metadata": {},
   "outputs": [
    {
     "name": "stdout",
     "output_type": "stream",
     "text": [
      "Fitting 3 folds for each of 16 candidates, totalling 48 fits\n",
      "Cluster 0 - RMSE: 230.5643422245807, R-squared: 0.8202044143353868\n",
      "Best Parameters for Cluster 0: {'max_depth': 50, 'min_samples_leaf': 1, 'min_samples_split': 2, 'n_estimators': 200}\n",
      "Fitting 3 folds for each of 16 candidates, totalling 48 fits\n",
      "Cluster 1 - RMSE: 222.89159219996876, R-squared: 0.810151426075483\n",
      "Best Parameters for Cluster 1: {'max_depth': 20, 'min_samples_leaf': 2, 'min_samples_split': 2, 'n_estimators': 200}\n",
      "Fitting 3 folds for each of 16 candidates, totalling 48 fits\n",
      "Cluster 2 - RMSE: 231.42229177984976, R-squared: 0.8369803985274482\n",
      "Best Parameters for Cluster 2: {'max_depth': 20, 'min_samples_leaf': 2, 'min_samples_split': 2, 'n_estimators': 200}\n",
      "Fitting 3 folds for each of 16 candidates, totalling 48 fits\n",
      "Cluster 3 - RMSE: 294.0314201500812, R-squared: 0.6996201642813523\n",
      "Best Parameters for Cluster 3: {'max_depth': 20, 'min_samples_leaf': 1, 'min_samples_split': 2, 'n_estimators': 200}\n",
      "Fitting 3 folds for each of 16 candidates, totalling 48 fits\n",
      "Cluster 4 - RMSE: 238.58408511799675, R-squared: 0.8203596734931722\n",
      "Best Parameters for Cluster 4: {'max_depth': 50, 'min_samples_leaf': 2, 'min_samples_split': 2, 'n_estimators': 200}\n",
      "Fitting 3 folds for each of 16 candidates, totalling 48 fits\n",
      "Cluster 5 - RMSE: 244.65639440535227, R-squared: 0.7983325296134923\n",
      "Best Parameters for Cluster 5: {'max_depth': 20, 'min_samples_leaf': 1, 'min_samples_split': 2, 'n_estimators': 200}\n",
      "Cluster 0 - RMSE: 230.5643422245807, R-squared: 0.8202044143353868\n",
      "Cluster 1 - RMSE: 222.89159219996876, R-squared: 0.810151426075483\n",
      "Cluster 2 - RMSE: 231.42229177984976, R-squared: 0.8369803985274482\n",
      "Cluster 3 - RMSE: 294.0314201500812, R-squared: 0.6996201642813523\n",
      "Cluster 4 - RMSE: 238.58408511799675, R-squared: 0.8203596734931722\n",
      "Cluster 5 - RMSE: 244.65639440535227, R-squared: 0.7983325296134923\n"
     ]
    }
   ],
   "source": [
    "# Train and evaluate models for each cluster\n",
    "cluster_models = {}\n",
    "for cluster_label in range(6):\n",
    "    cluster_data = poly_df[poly_df['cluster'] == cluster_label]\n",
    "    model, rmse, r2 = train_and_tune_cluster_model(cluster_data, cluster_label)\n",
    "    cluster_models[cluster_label] = (model, rmse, r2)\n",
    "\n",
    "# Display the evaluation results\n",
    "for cluster_label, (model, rmse, r2) in cluster_models.items():\n",
    "    print(f\"Cluster {cluster_label} - RMSE: {rmse}, R-squared: {r2}\")"
   ]
  },
  {
   "cell_type": "code",
   "execution_count": 51,
   "metadata": {},
   "outputs": [
    {
     "data": {
      "text/plain": [
       "state\n",
       "CA    7925\n",
       "FL    5274\n",
       "GA    4561\n",
       "MA    4176\n",
       "NJ    3904\n",
       "WA    2467\n",
       "MO    1173\n",
       "PA    1090\n",
       "KY     970\n",
       "IL     936\n",
       "OK     910\n",
       "KS     882\n",
       "SC     869\n",
       "UT     752\n",
       "NH     700\n",
       "ND     693\n",
       "MI     660\n",
       "AR     579\n",
       "MN     556\n",
       "CT     499\n",
       "IN     461\n",
       "NY     441\n",
       "WI     412\n",
       "IA     358\n",
       "AL     333\n",
       "OR     247\n",
       "VT     117\n",
       "RI     111\n",
       "MS     105\n",
       "ID      86\n",
       "MT      84\n",
       "SD      80\n",
       "DC      67\n",
       "AK      52\n",
       "ME      28\n",
       "HI      23\n",
       "NM      22\n",
       "WY      16\n",
       "WV       9\n",
       "DE       4\n",
       "Name: count, dtype: int64"
      ]
     },
     "execution_count": 51,
     "metadata": {},
     "output_type": "execute_result"
    }
   ],
   "source": [
    "filtered_df['state'].value_counts()"
   ]
  },
  {
   "cell_type": "code",
   "execution_count": 54,
   "metadata": {},
   "outputs": [],
   "source": [
    "def train_and_tune_state_model(state_data, state_name):\n",
    "    X = state_data[['bathrooms', 'bedrooms', 'square_feet', 'latitude', 'longitude']]\n",
    "    y = state_data['price']\n",
    "    \n",
    "    # Split the data\n",
    "    X_train, X_test, y_train, y_test = train_test_split(X, y, test_size=0.2, random_state=42)\n",
    "    \n",
    "    # Define the model\n",
    "    rf = RandomForestRegressor(random_state=42)\n",
    "    \n",
    "    # Set up the GridSearchCV\n",
    "    grid_search = GridSearchCV(estimator=rf, param_grid=param_grid, cv=3, n_jobs=-1, verbose=2)\n",
    "    \n",
    "    # Train the model with hyperparameter tuning\n",
    "    grid_search.fit(X_train, y_train)\n",
    "    \n",
    "    # Get the best model\n",
    "    best_model = grid_search.best_estimator_\n",
    "    \n",
    "    # Evaluate the model\n",
    "    y_pred = best_model.predict(X_test)\n",
    "    rmse = mean_squared_error(y_test, y_pred, squared=False)\n",
    "    r2 = r2_score(y_test, y_pred)\n",
    "    \n",
    "    print(f\"State {state_name} - RMSE: {rmse}, R-squared: {r2}\")\n",
    "    print(f\"Best Parameters for State {state_name}: {grid_search.best_params_}\")\n",
    "    \n",
    "    return best_model, rmse, r2\n"
   ]
  },
  {
   "cell_type": "code",
   "execution_count": 55,
   "metadata": {},
   "outputs": [
    {
     "name": "stdout",
     "output_type": "stream",
     "text": [
      "Fitting 3 folds for each of 16 candidates, totalling 48 fits\n",
      "State CA - RMSE: 233.16144057469296, R-squared: 0.7942674754851187\n",
      "Best Parameters for State CA: {'max_depth': 20, 'min_samples_leaf': 2, 'min_samples_split': 2, 'n_estimators': 200}\n",
      "Fitting 3 folds for each of 16 candidates, totalling 48 fits\n",
      "State GA - RMSE: 232.72439987346854, R-squared: 0.5973678034973913\n",
      "Best Parameters for State GA: {'max_depth': 20, 'min_samples_leaf': 1, 'min_samples_split': 2, 'n_estimators': 200}\n",
      "Fitting 3 folds for each of 16 candidates, totalling 48 fits\n",
      "State WA - RMSE: 188.45671852286958, R-squared: 0.7964630102439758\n",
      "Best Parameters for State WA: {'max_depth': 20, 'min_samples_leaf': 1, 'min_samples_split': 2, 'n_estimators': 100}\n",
      "Fitting 3 folds for each of 16 candidates, totalling 48 fits\n",
      "State IL - RMSE: 303.8916570007389, R-squared: 0.7139459756783656\n",
      "Best Parameters for State IL: {'max_depth': 20, 'min_samples_leaf': 2, 'min_samples_split': 10, 'n_estimators': 200}\n",
      "Fitting 3 folds for each of 16 candidates, totalling 48 fits\n",
      "State FL - RMSE: 206.1077315207946, R-squared: 0.7429584220788016\n",
      "Best Parameters for State FL: {'max_depth': 20, 'min_samples_leaf': 1, 'min_samples_split': 2, 'n_estimators': 200}\n",
      "Fitting 3 folds for each of 16 candidates, totalling 48 fits\n",
      "State MO - RMSE: 211.46520669329965, R-squared: 0.6927550410820253\n",
      "Best Parameters for State MO: {'max_depth': 50, 'min_samples_leaf': 1, 'min_samples_split': 2, 'n_estimators': 200}\n",
      "Fitting 3 folds for each of 16 candidates, totalling 48 fits\n",
      "State PA - RMSE: 290.63832158464544, R-squared: 0.6469870106480644\n",
      "Best Parameters for State PA: {'max_depth': 50, 'min_samples_leaf': 1, 'min_samples_split': 10, 'n_estimators': 200}\n",
      "Fitting 3 folds for each of 16 candidates, totalling 48 fits\n",
      "State OK - RMSE: 146.88473963391235, R-squared: 0.7772236600489583\n",
      "Best Parameters for State OK: {'max_depth': 20, 'min_samples_leaf': 1, 'min_samples_split': 2, 'n_estimators': 200}\n",
      "Fitting 3 folds for each of 16 candidates, totalling 48 fits\n",
      "State UT - RMSE: 164.36021999551204, R-squared: 0.8184890012173907\n",
      "Best Parameters for State UT: {'max_depth': 20, 'min_samples_leaf': 2, 'min_samples_split': 2, 'n_estimators': 100}\n",
      "Fitting 3 folds for each of 16 candidates, totalling 48 fits\n",
      "State NJ - RMSE: 210.13634721034563, R-squared: 0.8378095282889959\n",
      "Best Parameters for State NJ: {'max_depth': 20, 'min_samples_leaf': 1, 'min_samples_split': 2, 'n_estimators': 200}\n",
      "Fitting 3 folds for each of 16 candidates, totalling 48 fits\n",
      "State ND - RMSE: 190.2183768368478, R-squared: 0.5396917567895877\n",
      "Best Parameters for State ND: {'max_depth': 20, 'min_samples_leaf': 2, 'min_samples_split': 2, 'n_estimators': 100}\n",
      "Fitting 3 folds for each of 16 candidates, totalling 48 fits\n",
      "State MI - RMSE: 235.61995225399474, R-squared: 0.637992986034394\n",
      "Best Parameters for State MI: {'max_depth': 50, 'min_samples_leaf': 2, 'min_samples_split': 2, 'n_estimators': 200}\n",
      "Fitting 3 folds for each of 16 candidates, totalling 48 fits\n",
      "State MN - RMSE: 247.98015385573842, R-squared: 0.6396888538553401\n",
      "Best Parameters for State MN: {'max_depth': 20, 'min_samples_leaf': 1, 'min_samples_split': 2, 'n_estimators': 100}\n",
      "Fitting 3 folds for each of 16 candidates, totalling 48 fits\n",
      "State MA - RMSE: 250.56015348930703, R-squared: 0.7277170968465801\n",
      "Best Parameters for State MA: {'max_depth': 20, 'min_samples_leaf': 2, 'min_samples_split': 2, 'n_estimators': 200}\n",
      "Fitting 3 folds for each of 16 candidates, totalling 48 fits\n",
      "State AR - RMSE: 159.55448599848975, R-squared: 0.5545980800611607\n",
      "Best Parameters for State AR: {'max_depth': 50, 'min_samples_leaf': 1, 'min_samples_split': 2, 'n_estimators': 200}\n",
      "Fitting 3 folds for each of 16 candidates, totalling 48 fits\n",
      "State SC - RMSE: 224.52749303535336, R-squared: 0.3008088860362901\n",
      "Best Parameters for State SC: {'max_depth': 20, 'min_samples_leaf': 2, 'min_samples_split': 2, 'n_estimators': 200}\n",
      "Fitting 3 folds for each of 16 candidates, totalling 48 fits\n",
      "State KY - RMSE: 175.9657569308892, R-squared: 0.6922173502866983\n",
      "Best Parameters for State KY: {'max_depth': 50, 'min_samples_leaf': 1, 'min_samples_split': 2, 'n_estimators': 200}\n",
      "Fitting 3 folds for each of 16 candidates, totalling 48 fits\n",
      "State KS - RMSE: 135.32785689043226, R-squared: 0.8414011029569731\n",
      "Best Parameters for State KS: {'max_depth': 20, 'min_samples_leaf': 2, 'min_samples_split': 2, 'n_estimators': 200}\n",
      "Fitting 3 folds for each of 16 candidates, totalling 48 fits\n",
      "State NH - RMSE: 182.11181957524846, R-squared: 0.586232385699984\n",
      "Best Parameters for State NH: {'max_depth': 50, 'min_samples_leaf': 1, 'min_samples_split': 2, 'n_estimators': 100}\n",
      "State CA - RMSE: 233.16144057469296, R-squared: 0.7942674754851187\n",
      "State GA - RMSE: 232.72439987346854, R-squared: 0.5973678034973913\n",
      "State WA - RMSE: 188.45671852286958, R-squared: 0.7964630102439758\n",
      "State IL - RMSE: 303.8916570007389, R-squared: 0.7139459756783656\n",
      "State FL - RMSE: 206.1077315207946, R-squared: 0.7429584220788016\n",
      "State MO - RMSE: 211.46520669329965, R-squared: 0.6927550410820253\n",
      "State PA - RMSE: 290.63832158464544, R-squared: 0.6469870106480644\n",
      "State OK - RMSE: 146.88473963391235, R-squared: 0.7772236600489583\n",
      "State UT - RMSE: 164.36021999551204, R-squared: 0.8184890012173907\n",
      "State NJ - RMSE: 210.13634721034563, R-squared: 0.8378095282889959\n",
      "State ND - RMSE: 190.2183768368478, R-squared: 0.5396917567895877\n",
      "State MI - RMSE: 235.61995225399474, R-squared: 0.637992986034394\n",
      "State MN - RMSE: 247.98015385573842, R-squared: 0.6396888538553401\n",
      "State MA - RMSE: 250.56015348930703, R-squared: 0.7277170968465801\n",
      "State AR - RMSE: 159.55448599848975, R-squared: 0.5545980800611607\n",
      "State SC - RMSE: 224.52749303535336, R-squared: 0.3008088860362901\n",
      "State KY - RMSE: 175.9657569308892, R-squared: 0.6922173502866983\n",
      "State KS - RMSE: 135.32785689043226, R-squared: 0.8414011029569731\n",
      "State NH - RMSE: 182.11181957524846, R-squared: 0.586232385699984\n"
     ]
    }
   ],
   "source": [
    "# Train and evaluate models for each state\n",
    "state_models = {}\n",
    "unique_states = filtered_df['state'].unique()\n",
    "\n",
    "for state in unique_states:\n",
    "    state_data = filtered_df[filtered_df['state'] == state]\n",
    "    if len(state_data) > 500:\n",
    "        model, rmse, r2 = train_and_tune_state_model(state_data, state)\n",
    "        state_models[state] = (model, rmse, r2)\n"
   ]
  },
  {
   "cell_type": "code",
   "execution_count": 56,
   "metadata": {},
   "outputs": [
    {
     "name": "stdout",
     "output_type": "stream",
     "text": [
      "State CA - RMSE: 233.16144057469296, R-squared: 0.7942674754851187\n",
      "State GA - RMSE: 232.72439987346854, R-squared: 0.5973678034973913\n",
      "State WA - RMSE: 188.45671852286958, R-squared: 0.7964630102439758\n",
      "State IL - RMSE: 303.8916570007389, R-squared: 0.7139459756783656\n",
      "State FL - RMSE: 206.1077315207946, R-squared: 0.7429584220788016\n",
      "State MO - RMSE: 211.46520669329965, R-squared: 0.6927550410820253\n",
      "State PA - RMSE: 290.63832158464544, R-squared: 0.6469870106480644\n",
      "State OK - RMSE: 146.88473963391235, R-squared: 0.7772236600489583\n",
      "State UT - RMSE: 164.36021999551204, R-squared: 0.8184890012173907\n",
      "State NJ - RMSE: 210.13634721034563, R-squared: 0.8378095282889959\n",
      "State ND - RMSE: 190.2183768368478, R-squared: 0.5396917567895877\n",
      "State MI - RMSE: 235.61995225399474, R-squared: 0.637992986034394\n",
      "State MN - RMSE: 247.98015385573842, R-squared: 0.6396888538553401\n",
      "State MA - RMSE: 250.56015348930703, R-squared: 0.7277170968465801\n",
      "State AR - RMSE: 159.55448599848975, R-squared: 0.5545980800611607\n",
      "State SC - RMSE: 224.52749303535336, R-squared: 0.3008088860362901\n",
      "State KY - RMSE: 175.9657569308892, R-squared: 0.6922173502866983\n",
      "State KS - RMSE: 135.32785689043226, R-squared: 0.8414011029569731\n",
      "State NH - RMSE: 182.11181957524846, R-squared: 0.586232385699984\n"
     ]
    }
   ],
   "source": [
    "# Display the evaluation results\n",
    "for state, (model, rmse, r2) in state_models.items():\n",
    "    print(f\"State {state} - RMSE: {rmse}, R-squared: {r2}\")"
   ]
  },
  {
   "cell_type": "code",
   "execution_count": 57,
   "metadata": {},
   "outputs": [
    {
     "name": "stdout",
     "output_type": "stream",
     "text": [
      "Model for state CA not saved due to not meeting criteria (RMSE: 233.16144057469296, R-squared: 0.7942674754851187).\n",
      "Model for state GA not saved due to not meeting criteria (RMSE: 232.72439987346854, R-squared: 0.5973678034973913).\n",
      "Model for state WA not saved due to not meeting criteria (RMSE: 188.45671852286958, R-squared: 0.7964630102439758).\n",
      "Model for state IL not saved due to not meeting criteria (RMSE: 303.8916570007389, R-squared: 0.7139459756783656).\n",
      "Model for state FL not saved due to not meeting criteria (RMSE: 206.1077315207946, R-squared: 0.7429584220788016).\n",
      "Model for state MO not saved due to not meeting criteria (RMSE: 211.46520669329965, R-squared: 0.6927550410820253).\n",
      "Model for state PA not saved due to not meeting criteria (RMSE: 290.63832158464544, R-squared: 0.6469870106480644).\n",
      "Model for state OK saved (RMSE: 146.88473963391235, R-squared: 0.7772236600489583).\n",
      "Model for state UT saved (RMSE: 164.36021999551204, R-squared: 0.8184890012173907).\n",
      "Model for state NJ not saved due to not meeting criteria (RMSE: 210.13634721034563, R-squared: 0.8378095282889959).\n",
      "Model for state ND not saved due to not meeting criteria (RMSE: 190.2183768368478, R-squared: 0.5396917567895877).\n",
      "Model for state MI not saved due to not meeting criteria (RMSE: 235.61995225399474, R-squared: 0.637992986034394).\n",
      "Model for state MN not saved due to not meeting criteria (RMSE: 247.98015385573842, R-squared: 0.6396888538553401).\n",
      "Model for state MA not saved due to not meeting criteria (RMSE: 250.56015348930703, R-squared: 0.7277170968465801).\n",
      "Model for state AR not saved due to not meeting criteria (RMSE: 159.55448599848975, R-squared: 0.5545980800611607).\n",
      "Model for state SC not saved due to not meeting criteria (RMSE: 224.52749303535336, R-squared: 0.3008088860362901).\n",
      "Model for state KY not saved due to not meeting criteria (RMSE: 175.9657569308892, R-squared: 0.6922173502866983).\n",
      "Model for state KS saved (RMSE: 135.32785689043226, R-squared: 0.8414011029569731).\n",
      "Model for state NH not saved due to not meeting criteria (RMSE: 182.11181957524846, R-squared: 0.586232385699984).\n"
     ]
    }
   ],
   "source": [
    "# Save the models if they meet specific performance criteria\n",
    "performance_criterion_rmse = 185\n",
    "performance_criterion_r2 = 0.7\n",
    "\n",
    "# for state, (model, rmse, r2) in state_models.items():\n",
    "     #if rmse < performance_criterion_rmse and r2 > performance_criterion_r2:\n",
    "        #joblib.dump(model, f'{state}_model.pkl')\n",
    "        #print(f\"Model for state {state} saved (RMSE: {rmse}, R-squared: {r2}).\")\n",
    " #   else:\n",
    "        #print(f\"Model for state {state} not saved due to not meeting criteria (RMSE: {rmse}, R-squared: {r2}).\")"
   ]
  },
  {
   "cell_type": "code",
   "execution_count": 58,
   "metadata": {},
   "outputs": [],
   "source": [
    "states_to_remove = ['OK', 'UT', 'KS']\n",
    "filtered_df = filtered_df[~filtered_df['state'].isin(states_to_remove)]"
   ]
  },
  {
   "cell_type": "code",
   "execution_count": 59,
   "metadata": {},
   "outputs": [
    {
     "data": {
      "text/plain": [
       "(40088, 10)"
      ]
     },
     "execution_count": 59,
     "metadata": {},
     "output_type": "execute_result"
    }
   ],
   "source": [
    "filtered_df.shape"
   ]
  },
  {
   "cell_type": "code",
   "execution_count": 60,
   "metadata": {},
   "outputs": [
    {
     "data": {
      "text/plain": [
       "state\n",
       "CA    7925\n",
       "FL    5274\n",
       "GA    4561\n",
       "MA    4176\n",
       "NJ    3904\n",
       "WA    2467\n",
       "MO    1173\n",
       "PA    1090\n",
       "KY     970\n",
       "IL     936\n",
       "SC     869\n",
       "NH     700\n",
       "ND     693\n",
       "MI     660\n",
       "AR     579\n",
       "MN     556\n",
       "CT     499\n",
       "IN     461\n",
       "NY     441\n",
       "WI     412\n",
       "IA     358\n",
       "AL     333\n",
       "OR     247\n",
       "VT     117\n",
       "RI     111\n",
       "MS     105\n",
       "ID      86\n",
       "MT      84\n",
       "SD      80\n",
       "DC      67\n",
       "AK      52\n",
       "ME      28\n",
       "HI      23\n",
       "NM      22\n",
       "WY      16\n",
       "WV       9\n",
       "DE       4\n",
       "Name: count, dtype: int64"
      ]
     },
     "execution_count": 60,
     "metadata": {},
     "output_type": "execute_result"
    }
   ],
   "source": [
    "filtered_df['state'].value_counts()"
   ]
  },
  {
   "cell_type": "code",
   "execution_count": 61,
   "metadata": {},
   "outputs": [
    {
     "name": "stdout",
     "output_type": "stream",
     "text": [
      "Overall Root Mean Squared Error: 237.0178510808502\n",
      "Overall R-squared: 0.8318343907508143\n"
     ]
    }
   ],
   "source": [
    "\n",
    "# Define features and target variable\n",
    "X = filtered_df[['bathrooms', 'bedrooms', 'square_feet', 'latitude', 'longitude', 'state']]\n",
    "y = filtered_df['price']\n",
    "\n",
    "# One-Hot Encode the 'state' column\n",
    "preprocessor = ColumnTransformer(\n",
    "    transformers=[\n",
    "        ('num', 'passthrough', ['bathrooms', 'bedrooms', 'square_feet', 'latitude', 'longitude']),\n",
    "        ('cat', OneHotEncoder(), ['state'])\n",
    "    ])\n",
    "\n",
    "# Create a pipeline with a preprocessor and a model\n",
    "pipeline = Pipeline(steps=[\n",
    "    ('preprocessor', preprocessor),\n",
    "    ('model', RandomForestRegressor(random_state=42))\n",
    "])\n",
    "\n",
    "# Split the data into training and testing sets\n",
    "X_train, X_test, y_train, y_test = train_test_split(X, y, test_size=0.2, random_state=42)\n",
    "\n",
    "# Fit the model\n",
    "pipeline.fit(X_train, y_train)\n",
    "\n",
    "# Make predictions on the test set\n",
    "y_pred = pipeline.predict(X_test)\n",
    "\n",
    "# Evaluate the model on the entire test set\n",
    "rmse = mean_squared_error(y_test, y_pred, squared=False)\n",
    "r2 = r2_score(y_test, y_pred)\n",
    "\n",
    "print(f'Overall Root Mean Squared Error: {rmse}')\n",
    "print(f'Overall R-squared: {r2}')"
   ]
  },
  {
   "cell_type": "code",
   "execution_count": null,
   "metadata": {},
   "outputs": [],
   "source": []
  }
 ],
 "metadata": {
  "kernelspec": {
   "display_name": "base",
   "language": "python",
   "name": "python3"
  },
  "language_info": {
   "codemirror_mode": {
    "name": "ipython",
    "version": 3
   },
   "file_extension": ".py",
   "mimetype": "text/x-python",
   "name": "python",
   "nbconvert_exporter": "python",
   "pygments_lexer": "ipython3",
   "version": "3.11.7"
  }
 },
 "nbformat": 4,
 "nbformat_minor": 2
}
